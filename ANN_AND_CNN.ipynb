{
 "cells": [
  {
   "cell_type": "code",
   "execution_count": 177,
   "id": "8482898a",
   "metadata": {},
   "outputs": [],
   "source": [
    "train_data=\"/Users/deepanshubissu/Desktop/archive-1/train\"\n",
    "test_data=\"/Users/deepanshubissu/Desktop/archive-1/test\"\n",
    "val_data=\"/Users/deepanshubissu/Desktop/archive-1/validation\""
   ]
  },
  {
   "cell_type": "code",
   "execution_count": 178,
   "id": "f7241abc",
   "metadata": {},
   "outputs": [],
   "source": [
    "import os\n",
    "os.environ['TF_CPP_MIN_LOG_LEVEL'] = '2'\n"
   ]
  },
  {
   "cell_type": "code",
   "execution_count": 179,
   "id": "9c4b1f64",
   "metadata": {},
   "outputs": [],
   "source": [
    "import tensorflow as tf"
   ]
  },
  {
   "cell_type": "code",
   "execution_count": 180,
   "id": "ac93bf04",
   "metadata": {},
   "outputs": [],
   "source": [
    "from tensorflow import keras\n",
    "from keras import Sequential\n",
    "from keras.layers import Dense,Conv2D,MaxPooling2D,Flatten,BatchNormalization,Dropout\n",
    "from keras.preprocessing.image import ImageDataGenerator"
   ]
  },
  {
   "cell_type": "code",
   "execution_count": 182,
   "id": "b03a69f6",
   "metadata": {},
   "outputs": [
    {
     "name": "stdout",
     "output_type": "stream",
     "text": [
      "Found 3115 files belonging to 36 classes.\n",
      "Found 351 files belonging to 36 classes.\n"
     ]
    }
   ],
   "source": [
    "batch_size = 32\n",
    "image_size = 256\n",
    "\n",
    "train_data_cnn = tf.keras.preprocessing.image_dataset_from_directory(train_data,\n",
    "                                                                 image_size=(image_size, image_size),\n",
    "                                                                 batch_size=batch_size)\n",
    "\n",
    "val_data_cnn = tf.keras.preprocessing.image_dataset_from_directory(val_data,\n",
    "                                                                 image_size=(image_size, image_size),\n",
    "                                                                 batch_size=batch_size)"
   ]
  },
  {
   "cell_type": "code",
   "execution_count": 156,
   "id": "6d9f649a",
   "metadata": {},
   "outputs": [
    {
     "name": "stdout",
     "output_type": "stream",
     "text": [
      "Found 3115 files belonging to 36 classes.\n",
      "Found 359 files belonging to 36 classes.\n",
      "Found 351 files belonging to 36 classes.\n"
     ]
    }
   ],
   "source": [
    "\n",
    "train_data_ann = keras.utils.image_dataset_from_directory(\n",
    "    directory = train_data,\n",
    "    \n",
    "    \n",
    "    batch_size=32,\n",
    "    image_size=(28,28)\n",
    ")\n",
    "test_data_ann = keras.utils.image_dataset_from_directory(\n",
    "    directory = test_data,\n",
    "    \n",
    "    \n",
    "    batch_size=32,\n",
    "    image_size=(28,28)\n",
    ")\n",
    "val_data_ann = keras.utils.image_dataset_from_directory(\n",
    "    directory = val_data,\n",
    "    \n",
    "    \n",
    "    batch_size=32,\n",
    "    image_size=(28,28)\n",
    ")\n"
   ]
  },
  {
   "cell_type": "code",
   "execution_count": 157,
   "id": "df70c202",
   "metadata": {},
   "outputs": [
    {
     "name": "stdout",
     "output_type": "stream",
     "text": [
      "['apple', 'banana', 'beetroot', 'bell pepper', 'cabbage', 'capsicum', 'carrot', 'cauliflower', 'chilli pepper', 'corn', 'cucumber', 'eggplant', 'garlic', 'ginger', 'grapes', 'jalepeno', 'kiwi', 'lemon', 'lettuce', 'mango', 'onion', 'orange', 'paprika', 'pear', 'peas', 'pineapple', 'pomegranate', 'potato', 'raddish', 'soy beans', 'spinach', 'sweetcorn', 'sweetpotato', 'tomato', 'turnip', 'watermelon']\n"
     ]
    }
   ],
   "source": [
    "\n",
    "classes = train_data_ann.class_names\n",
    "print((classes))"
   ]
  },
  {
   "cell_type": "code",
   "execution_count": 158,
   "id": "6233358d",
   "metadata": {},
   "outputs": [],
   "source": [
    "def format(image, label):\n",
    "  image = tf.cast(image, tf.float32)\n",
    "  image = image/255.0\n",
    "  return image, label"
   ]
  },
  {
   "cell_type": "code",
   "execution_count": 159,
   "id": "72666d0c",
   "metadata": {},
   "outputs": [],
   "source": [
    "train_ann = train_data_ann.map(format)"
   ]
  },
  {
   "cell_type": "code",
   "execution_count": 160,
   "id": "8e98f2f8",
   "metadata": {},
   "outputs": [],
   "source": [
    "test_ann = test_data_ann.map(format)"
   ]
  },
  {
   "cell_type": "code",
   "execution_count": 189,
   "id": "122d9933",
   "metadata": {},
   "outputs": [],
   "source": [
    "train_cnn = train_data_cnn.map(format)"
   ]
  },
  {
   "cell_type": "code",
   "execution_count": 190,
   "id": "8195a34b",
   "metadata": {},
   "outputs": [],
   "source": [
    "X_train=[]\n",
    "y_train=[]\n",
    "for format_image_batch, format_label_batch in train_cnn:\n",
    "    for j in format_image_batch:\n",
    "        X_train.append(j)\n",
    "    for j in format_label_batch:\n",
    "        y_train.append(j)"
   ]
  },
  {
   "cell_type": "code",
   "execution_count": 195,
   "id": "eca69185",
   "metadata": {},
   "outputs": [],
   "source": [
    "X_train=np.array(X_train)\n",
    "y_train=np.array(y_train)"
   ]
  },
  {
   "cell_type": "code",
   "execution_count": 161,
   "id": "490b482b",
   "metadata": {},
   "outputs": [],
   "source": [
    "\n",
    "X_train_ann=[]\n",
    "y_train_ann=[]\n",
    "for format_image_batch, format_label_batch in train_ann:\n",
    "    for j in format_image_batch:\n",
    "        X_train_ann.append(j)\n",
    "    for j in format_label_batch:\n",
    "        y_train_ann.append(j)\n",
    "\n",
    "    "
   ]
  },
  {
   "cell_type": "code",
   "execution_count": 162,
   "id": "4313f083",
   "metadata": {},
   "outputs": [],
   "source": [
    "\n",
    "X_test_ann=[]\n",
    "y_test_ann=[]\n",
    "for format_image_batch, format_label_batch in test_ann:\n",
    "    for j in format_image_batch:\n",
    "        X_test_ann.append(j)\n",
    "    for j in format_label_batch:\n",
    "        y_test_ann.append(j)\n",
    "\n",
    "    "
   ]
  },
  {
   "cell_type": "code",
   "execution_count": 163,
   "id": "09bf5378",
   "metadata": {},
   "outputs": [],
   "source": [
    "import numpy as np"
   ]
  },
  {
   "cell_type": "code",
   "execution_count": 164,
   "id": "f1aaf2e1",
   "metadata": {},
   "outputs": [],
   "source": [
    "X_train_ann=np.array(X_train_ann)"
   ]
  },
  {
   "cell_type": "code",
   "execution_count": 165,
   "id": "5815dfe5",
   "metadata": {},
   "outputs": [],
   "source": [
    "X_test_ann=np.array(X_test_ann)"
   ]
  },
  {
   "cell_type": "code",
   "execution_count": 166,
   "id": "04961509",
   "metadata": {},
   "outputs": [],
   "source": [
    "y_train_ann=np.array(y_train_ann)"
   ]
  },
  {
   "cell_type": "code",
   "execution_count": 167,
   "id": "9224b9ac",
   "metadata": {},
   "outputs": [],
   "source": [
    "y_test_ann=np.array(y_test_ann)"
   ]
  },
  {
   "cell_type": "code",
   "execution_count": 168,
   "id": "936117d3",
   "metadata": {},
   "outputs": [
    {
     "name": "stdout",
     "output_type": "stream",
     "text": [
      "Requirement already satisfied: matplotlib in /opt/anaconda3/envs/PRML/lib/python3.9/site-packages (3.7.1)\n",
      "Requirement already satisfied: contourpy>=1.0.1 in /opt/anaconda3/envs/PRML/lib/python3.9/site-packages (from matplotlib) (1.0.7)\n",
      "Requirement already satisfied: python-dateutil>=2.7 in /opt/anaconda3/envs/PRML/lib/python3.9/site-packages (from matplotlib) (2.8.2)\n",
      "Requirement already satisfied: pyparsing>=2.3.1 in /opt/anaconda3/envs/PRML/lib/python3.9/site-packages (from matplotlib) (3.0.9)\n",
      "Requirement already satisfied: importlib-resources>=3.2.0 in /opt/anaconda3/envs/PRML/lib/python3.9/site-packages (from matplotlib) (5.12.0)\n",
      "Requirement already satisfied: cycler>=0.10 in /opt/anaconda3/envs/PRML/lib/python3.9/site-packages (from matplotlib) (0.11.0)\n",
      "Requirement already satisfied: kiwisolver>=1.0.1 in /opt/anaconda3/envs/PRML/lib/python3.9/site-packages (from matplotlib) (1.4.4)\n",
      "Requirement already satisfied: pillow>=6.2.0 in /opt/anaconda3/envs/PRML/lib/python3.9/site-packages (from matplotlib) (9.5.0)\n",
      "Requirement already satisfied: numpy>=1.20 in /opt/anaconda3/envs/PRML/lib/python3.9/site-packages (from matplotlib) (1.24.3)\n",
      "Requirement already satisfied: fonttools>=4.22.0 in /opt/anaconda3/envs/PRML/lib/python3.9/site-packages (from matplotlib) (4.39.3)\n",
      "Requirement already satisfied: packaging>=20.0 in /opt/anaconda3/envs/PRML/lib/python3.9/site-packages (from matplotlib) (23.0)\n",
      "Requirement already satisfied: zipp>=3.1.0 in /opt/anaconda3/envs/PRML/lib/python3.9/site-packages (from importlib-resources>=3.2.0->matplotlib) (3.11.0)\n",
      "Requirement already satisfied: six>=1.5 in /opt/anaconda3/envs/PRML/lib/python3.9/site-packages (from python-dateutil>=2.7->matplotlib) (1.16.0)\n",
      "Note: you may need to restart the kernel to use updated packages.\n"
     ]
    }
   ],
   "source": [
    "pip install matplotlib"
   ]
  },
  {
   "cell_type": "code",
   "execution_count": 169,
   "id": "b6ef878b",
   "metadata": {},
   "outputs": [],
   "source": [
    "from tensorflow.keras import datasets, layers, models\n",
    "import matplotlib.pyplot as plt"
   ]
  },
  {
   "cell_type": "code",
   "execution_count": 170,
   "id": "d68f0caa",
   "metadata": {},
   "outputs": [],
   "source": [
    "def plot_sample(X, y, index):\n",
    "    plt.figure(figsize = (15,2))\n",
    "    plt.imshow(X[index])\n",
    "    plt.xlabel(classes[y[index]])"
   ]
  },
  {
   "cell_type": "code",
   "execution_count": 171,
   "id": "0eaaca81",
   "metadata": {},
   "outputs": [
    {
     "data": {
      "image/png": "[encoded data removed]",
      "text/plain": [
       "<Figure size 1500x200 with 1 Axes>"
      ]
     },
     "metadata": {},
     "output_type": "display_data"
    }
   ],
   "source": [
    "\n",
    "\n",
    "plot_sample(X_train_ann, y_train_ann, 1)\n",
    "\n"
   ]
  },
  {
   "cell_type": "code",
   "execution_count": 172,
   "id": "87f4b9f1",
   "metadata": {},
   "outputs": [
    {
     "name": "stdout",
     "output_type": "stream",
     "text": [
      "Requirement already satisfied: scikit-image in /opt/anaconda3/envs/PRML/lib/python3.9/site-packages (0.20.0)\n",
      "Requirement already satisfied: packaging>=20.0 in /opt/anaconda3/envs/PRML/lib/python3.9/site-packages (from scikit-image) (23.0)\n",
      "Requirement already satisfied: PyWavelets>=1.1.1 in /opt/anaconda3/envs/PRML/lib/python3.9/site-packages (from scikit-image) (1.4.1)\n",
      "Requirement already satisfied: pillow>=9.0.1 in /opt/anaconda3/envs/PRML/lib/python3.9/site-packages (from scikit-image) (9.5.0)\n",
      "Requirement already satisfied: numpy>=1.21.1 in /opt/anaconda3/envs/PRML/lib/python3.9/site-packages (from scikit-image) (1.24.3)\n",
      "Requirement already satisfied: tifffile>=2019.7.26 in /opt/anaconda3/envs/PRML/lib/python3.9/site-packages (from scikit-image) (2023.4.12)\n",
      "Requirement already satisfied: networkx>=2.8 in /opt/anaconda3/envs/PRML/lib/python3.9/site-packages (from scikit-image) (3.1)\n",
      "Requirement already satisfied: scipy<1.9.2,>=1.8 in /opt/anaconda3/envs/PRML/lib/python3.9/site-packages (from scikit-image) (1.9.1)\n",
      "Requirement already satisfied: imageio>=2.4.1 in /opt/anaconda3/envs/PRML/lib/python3.9/site-packages (from scikit-image) (2.28.0)\n",
      "Requirement already satisfied: lazy_loader>=0.1 in /opt/anaconda3/envs/PRML/lib/python3.9/site-packages (from scikit-image) (0.2)\n",
      "Note: you may need to restart the kernel to use updated packages.\n"
     ]
    }
   ],
   "source": [
    "pip install scikit-image"
   ]
  },
  {
   "cell_type": "code",
   "execution_count": 201,
   "id": "7564214c",
   "metadata": {},
   "outputs": [
    {
     "name": "stdout",
     "output_type": "stream",
     "text": [
      "Epoch 1/100\n",
      "98/98 [==============================] - 11s 105ms/step - loss: 3.5241 - accuracy: 0.0559 - val_loss: 200.9420 - val_accuracy: 0.0997\n",
      "Epoch 2/100\n",
      "98/98 [==============================] - 9s 94ms/step - loss: 3.2561 - accuracy: 0.1210 - val_loss: 202.8051 - val_accuracy: 0.1681\n",
      "Epoch 3/100\n",
      "98/98 [==============================] - 9s 96ms/step - loss: 3.0401 - accuracy: 0.1753 - val_loss: 297.5779 - val_accuracy: 0.1909\n",
      "Epoch 4/100\n",
      "98/98 [==============================] - 9s 94ms/step - loss: 2.8641 - accuracy: 0.2151 - val_loss: 236.5313 - val_accuracy: 0.2422\n",
      "Epoch 5/100\n",
      "98/98 [==============================] - 9s 96ms/step - loss: 2.7309 - accuracy: 0.2488 - val_loss: 210.0781 - val_accuracy: 0.2650\n",
      "Epoch 6/100\n",
      "98/98 [==============================] - 9s 93ms/step - loss: 2.6143 - accuracy: 0.2867 - val_loss: 226.0693 - val_accuracy: 0.3077\n",
      "Epoch 7/100\n",
      "98/98 [==============================] - 9s 97ms/step - loss: 2.5123 - accuracy: 0.3127 - val_loss: 205.3241 - val_accuracy: 0.3533\n",
      "Epoch 8/100\n",
      "98/98 [==============================] - 9s 96ms/step - loss: 2.4292 - accuracy: 0.3413 - val_loss: 138.8034 - val_accuracy: 0.4843\n",
      "Epoch 9/100\n",
      "98/98 [==============================] - 9s 95ms/step - loss: 2.3429 - accuracy: 0.3592 - val_loss: 259.2932 - val_accuracy: 0.3504\n",
      "Epoch 10/100\n",
      "98/98 [==============================] - 9s 97ms/step - loss: 2.2719 - accuracy: 0.3856 - val_loss: 121.9339 - val_accuracy: 0.5470\n",
      "Epoch 11/100\n",
      "98/98 [==============================] - 9s 94ms/step - loss: 2.1900 - accuracy: 0.4122 - val_loss: 152.8370 - val_accuracy: 0.4758\n",
      "Epoch 12/100\n",
      "98/98 [==============================] - 9s 96ms/step - loss: 2.1241 - accuracy: 0.4295 - val_loss: 143.3074 - val_accuracy: 0.5527\n",
      "Epoch 13/100\n",
      "98/98 [==============================] - 9s 94ms/step - loss: 2.0565 - accuracy: 0.4587 - val_loss: 174.6693 - val_accuracy: 0.4758\n",
      "Epoch 14/100\n",
      "98/98 [==============================] - 9s 95ms/step - loss: 2.0052 - accuracy: 0.4636 - val_loss: 148.5625 - val_accuracy: 0.4929\n",
      "Epoch 15/100\n",
      "98/98 [==============================] - 9s 96ms/step - loss: 1.9419 - accuracy: 0.4790 - val_loss: 151.1108 - val_accuracy: 0.5185\n",
      "Epoch 16/100\n",
      "98/98 [==============================] - 26s 270ms/step - loss: 1.8876 - accuracy: 0.5050 - val_loss: 126.0174 - val_accuracy: 0.6125\n",
      "Epoch 17/100\n",
      "98/98 [==============================] - 13s 128ms/step - loss: 1.8298 - accuracy: 0.5246 - val_loss: 104.3300 - val_accuracy: 0.6382\n",
      "Epoch 18/100\n",
      "98/98 [==============================] - 10s 104ms/step - loss: 1.7734 - accuracy: 0.5329 - val_loss: 115.6782 - val_accuracy: 0.6182\n",
      "Epoch 19/100\n",
      "98/98 [==============================] - 10s 98ms/step - loss: 1.7200 - accuracy: 0.5477 - val_loss: 152.3797 - val_accuracy: 0.5926\n",
      "Epoch 20/100\n",
      "98/98 [==============================] - 9s 96ms/step - loss: 1.6675 - accuracy: 0.5711 - val_loss: 121.5838 - val_accuracy: 0.6154\n",
      "Epoch 21/100\n",
      "98/98 [==============================] - 9s 97ms/step - loss: 1.6213 - accuracy: 0.5900 - val_loss: 98.4494 - val_accuracy: 0.6838\n",
      "Epoch 22/100\n",
      "98/98 [==============================] - 11s 109ms/step - loss: 1.5729 - accuracy: 0.5971 - val_loss: 199.3495 - val_accuracy: 0.5698\n",
      "Epoch 23/100\n",
      "98/98 [==============================] - 10s 99ms/step - loss: 1.5222 - accuracy: 0.6170 - val_loss: 133.9600 - val_accuracy: 0.6211\n",
      "Epoch 24/100\n",
      "98/98 [==============================] - 10s 102ms/step - loss: 1.4614 - accuracy: 0.6343 - val_loss: 74.0910 - val_accuracy: 0.7521\n",
      "Epoch 25/100\n",
      "98/98 [==============================] - 9s 95ms/step - loss: 1.4211 - accuracy: 0.6488 - val_loss: 86.0370 - val_accuracy: 0.7407\n",
      "Epoch 26/100\n",
      "98/98 [==============================] - 10s 102ms/step - loss: 1.3522 - accuracy: 0.6735 - val_loss: 88.9166 - val_accuracy: 0.7123\n",
      "Epoch 27/100\n",
      "98/98 [==============================] - 10s 98ms/step - loss: 1.3295 - accuracy: 0.6828 - val_loss: 85.6533 - val_accuracy: 0.7635\n",
      "Epoch 28/100\n",
      "98/98 [==============================] - 10s 99ms/step - loss: 1.2808 - accuracy: 0.6950 - val_loss: 93.6078 - val_accuracy: 0.7208\n",
      "Epoch 29/100\n",
      "98/98 [==============================] - 10s 104ms/step - loss: 1.2404 - accuracy: 0.7088 - val_loss: 61.2148 - val_accuracy: 0.8006\n",
      "Epoch 30/100\n",
      "98/98 [==============================] - 11s 110ms/step - loss: 1.1869 - accuracy: 0.7146 - val_loss: 90.4344 - val_accuracy: 0.7863\n",
      "Epoch 31/100\n",
      "98/98 [==============================] - 10s 106ms/step - loss: 1.1434 - accuracy: 0.7329 - val_loss: 99.3676 - val_accuracy: 0.7293\n",
      "Epoch 32/100\n",
      "98/98 [==============================] - 10s 99ms/step - loss: 1.1301 - accuracy: 0.7342 - val_loss: 72.1046 - val_accuracy: 0.7749\n",
      "Epoch 33/100\n",
      "98/98 [==============================] - 9s 94ms/step - loss: 1.0613 - accuracy: 0.7554 - val_loss: 71.1420 - val_accuracy: 0.7863\n",
      "Epoch 34/100\n",
      "98/98 [==============================] - 9s 95ms/step - loss: 1.0318 - accuracy: 0.7669 - val_loss: 153.4586 - val_accuracy: 0.6724\n",
      "Epoch 35/100\n",
      "98/98 [==============================] - 9s 95ms/step - loss: 0.9795 - accuracy: 0.7791 - val_loss: 153.1199 - val_accuracy: 0.6524\n",
      "Epoch 36/100\n",
      "98/98 [==============================] - 9s 97ms/step - loss: 0.9473 - accuracy: 0.7888 - val_loss: 99.5309 - val_accuracy: 0.7550\n",
      "Epoch 37/100\n",
      "98/98 [==============================] - 9s 95ms/step - loss: 0.9272 - accuracy: 0.7942 - val_loss: 203.2018 - val_accuracy: 0.6667\n",
      "Epoch 38/100\n",
      "98/98 [==============================] - 9s 94ms/step - loss: 0.8864 - accuracy: 0.8106 - val_loss: 80.3023 - val_accuracy: 0.8262\n",
      "Epoch 39/100\n",
      "98/98 [==============================] - 9s 97ms/step - loss: 0.8384 - accuracy: 0.8161 - val_loss: 59.5002 - val_accuracy: 0.8433\n",
      "Epoch 40/100\n",
      "98/98 [==============================] - 9s 96ms/step - loss: 0.8204 - accuracy: 0.8157 - val_loss: 66.6743 - val_accuracy: 0.8262\n",
      "Epoch 41/100\n",
      "98/98 [==============================] - 9s 96ms/step - loss: 0.7801 - accuracy: 0.8315 - val_loss: 465.3639 - val_accuracy: 0.4900\n",
      "Epoch 42/100\n",
      "98/98 [==============================] - 9s 97ms/step - loss: 0.7726 - accuracy: 0.8453 - val_loss: 98.9677 - val_accuracy: 0.7521\n",
      "Epoch 43/100\n",
      "98/98 [==============================] - 9s 94ms/step - loss: 0.7053 - accuracy: 0.8616 - val_loss: 71.3875 - val_accuracy: 0.8091\n",
      "Epoch 44/100\n",
      "98/98 [==============================] - 10s 98ms/step - loss: 0.6602 - accuracy: 0.8693 - val_loss: 132.2107 - val_accuracy: 0.7236\n",
      "Epoch 45/100\n",
      "98/98 [==============================] - 10s 98ms/step - loss: 0.6466 - accuracy: 0.8693 - val_loss: 486.2554 - val_accuracy: 0.4501\n",
      "Epoch 46/100\n",
      "98/98 [==============================] - 10s 99ms/step - loss: 0.6405 - accuracy: 0.8748 - val_loss: 166.0026 - val_accuracy: 0.6923\n",
      "Epoch 47/100\n",
      "98/98 [==============================] - 9s 96ms/step - loss: 0.5973 - accuracy: 0.8809 - val_loss: 73.4670 - val_accuracy: 0.8519\n",
      "Epoch 48/100\n",
      "98/98 [==============================] - 9s 97ms/step - loss: 0.5608 - accuracy: 0.8957 - val_loss: 64.8082 - val_accuracy: 0.8262\n",
      "Epoch 49/100\n",
      "98/98 [==============================] - 9s 97ms/step - loss: 0.5402 - accuracy: 0.8992 - val_loss: 72.7866 - val_accuracy: 0.8490\n",
      "Epoch 50/100\n",
      "98/98 [==============================] - 9s 96ms/step - loss: 0.5315 - accuracy: 0.8995 - val_loss: 184.1626 - val_accuracy: 0.6980\n",
      "Epoch 51/100\n",
      "98/98 [==============================] - 10s 101ms/step - loss: 0.4938 - accuracy: 0.9101 - val_loss: 241.4977 - val_accuracy: 0.6382\n",
      "Epoch 52/100\n",
      "98/98 [==============================] - 13s 134ms/step - loss: 0.4831 - accuracy: 0.9152 - val_loss: 75.2929 - val_accuracy: 0.8689\n",
      "Epoch 53/100\n",
      "98/98 [==============================] - 11s 114ms/step - loss: 0.4568 - accuracy: 0.9172 - val_loss: 58.7496 - val_accuracy: 0.8889\n",
      "Epoch 54/100\n",
      "98/98 [==============================] - 10s 98ms/step - loss: 0.4389 - accuracy: 0.9185 - val_loss: 32.5411 - val_accuracy: 0.9288\n",
      "Epoch 55/100\n",
      "98/98 [==============================] - 10s 104ms/step - loss: 0.3887 - accuracy: 0.9358 - val_loss: 36.9261 - val_accuracy: 0.9174\n",
      "Epoch 56/100\n",
      "98/98 [==============================] - 10s 100ms/step - loss: 0.4174 - accuracy: 0.9236 - val_loss: 70.7891 - val_accuracy: 0.8547\n",
      "Epoch 57/100\n"
     ]
    },
    {
     "name": "stdout",
     "output_type": "stream",
     "text": [
      "98/98 [==============================] - 13s 136ms/step - loss: 0.3750 - accuracy: 0.9380 - val_loss: 172.1867 - val_accuracy: 0.7208\n",
      "Epoch 58/100\n",
      "98/98 [==============================] - 10s 102ms/step - loss: 0.3679 - accuracy: 0.9377 - val_loss: 35.7395 - val_accuracy: 0.9430\n",
      "Epoch 59/100\n",
      "98/98 [==============================] - 9s 98ms/step - loss: 0.3477 - accuracy: 0.9435 - val_loss: 41.9195 - val_accuracy: 0.9288\n",
      "Epoch 60/100\n",
      "98/98 [==============================] - 10s 98ms/step - loss: 0.3214 - accuracy: 0.9486 - val_loss: 39.8509 - val_accuracy: 0.9259\n",
      "Epoch 61/100\n",
      "98/98 [==============================] - 9s 94ms/step - loss: 0.2980 - accuracy: 0.9522 - val_loss: 167.4356 - val_accuracy: 0.7179\n",
      "Epoch 62/100\n",
      "98/98 [==============================] - 11s 112ms/step - loss: 0.3198 - accuracy: 0.9448 - val_loss: 264.9975 - val_accuracy: 0.7123\n",
      "Epoch 63/100\n",
      "98/98 [==============================] - 10s 104ms/step - loss: 0.3056 - accuracy: 0.9493 - val_loss: 47.4427 - val_accuracy: 0.8974\n",
      "Epoch 64/100\n",
      "98/98 [==============================] - 11s 108ms/step - loss: 0.2819 - accuracy: 0.9547 - val_loss: 32.9634 - val_accuracy: 0.9573\n",
      "Epoch 65/100\n",
      "98/98 [==============================] - 10s 103ms/step - loss: 0.2598 - accuracy: 0.9589 - val_loss: 38.1804 - val_accuracy: 0.9231\n",
      "Epoch 66/100\n",
      "98/98 [==============================] - 9s 97ms/step - loss: 0.2449 - accuracy: 0.9621 - val_loss: 37.5635 - val_accuracy: 0.9316\n",
      "Epoch 67/100\n",
      "98/98 [==============================] - 9s 96ms/step - loss: 0.2434 - accuracy: 0.9608 - val_loss: 30.6063 - val_accuracy: 0.9573\n",
      "Epoch 68/100\n",
      "98/98 [==============================] - 10s 99ms/step - loss: 0.2246 - accuracy: 0.9695 - val_loss: 69.9603 - val_accuracy: 0.8946\n",
      "Epoch 69/100\n",
      "98/98 [==============================] - 10s 102ms/step - loss: 0.2216 - accuracy: 0.9685 - val_loss: 63.3487 - val_accuracy: 0.8917\n",
      "Epoch 70/100\n",
      "98/98 [==============================] - 10s 99ms/step - loss: 0.2196 - accuracy: 0.9685 - val_loss: 38.6700 - val_accuracy: 0.9402\n",
      "Epoch 71/100\n",
      "98/98 [==============================] - 9s 97ms/step - loss: 0.2029 - accuracy: 0.9689 - val_loss: 29.0868 - val_accuracy: 0.9573\n",
      "Epoch 72/100\n",
      "98/98 [==============================] - 9s 95ms/step - loss: 0.1852 - accuracy: 0.9762 - val_loss: 30.3105 - val_accuracy: 0.9516\n",
      "Epoch 73/100\n",
      "98/98 [==============================] - 9s 97ms/step - loss: 0.1830 - accuracy: 0.9772 - val_loss: 34.2432 - val_accuracy: 0.9516\n",
      "Epoch 74/100\n",
      "98/98 [==============================] - 10s 99ms/step - loss: 0.1717 - accuracy: 0.9759 - val_loss: 35.8515 - val_accuracy: 0.9402\n",
      "Epoch 75/100\n",
      "98/98 [==============================] - 10s 103ms/step - loss: 0.1665 - accuracy: 0.9750 - val_loss: 48.7868 - val_accuracy: 0.9231\n",
      "Epoch 76/100\n",
      "98/98 [==============================] - 10s 107ms/step - loss: 0.1906 - accuracy: 0.9695 - val_loss: 32.3797 - val_accuracy: 0.9573\n",
      "Epoch 77/100\n",
      "98/98 [==============================] - 10s 108ms/step - loss: 0.1636 - accuracy: 0.9727 - val_loss: 34.9957 - val_accuracy: 0.9487\n",
      "Epoch 78/100\n",
      "98/98 [==============================] - 10s 100ms/step - loss: 0.1567 - accuracy: 0.9772 - val_loss: 35.1166 - val_accuracy: 0.9516\n",
      "Epoch 79/100\n",
      "98/98 [==============================] - 9s 96ms/step - loss: 0.1516 - accuracy: 0.9811 - val_loss: 33.0113 - val_accuracy: 0.9630\n",
      "Epoch 80/100\n",
      "98/98 [==============================] - 11s 108ms/step - loss: 0.1332 - accuracy: 0.9846 - val_loss: 36.6505 - val_accuracy: 0.9373\n",
      "Epoch 81/100\n",
      "98/98 [==============================] - 11s 109ms/step - loss: 0.1392 - accuracy: 0.9830 - val_loss: 37.3242 - val_accuracy: 0.9430\n",
      "Epoch 82/100\n",
      "98/98 [==============================] - 10s 98ms/step - loss: 0.1455 - accuracy: 0.9778 - val_loss: 29.6080 - val_accuracy: 0.9516\n",
      "Epoch 83/100\n",
      "98/98 [==============================] - 10s 98ms/step - loss: 0.1297 - accuracy: 0.9839 - val_loss: 64.4253 - val_accuracy: 0.8832\n",
      "Epoch 84/100\n",
      "98/98 [==============================] - 9s 94ms/step - loss: 0.1356 - accuracy: 0.9817 - val_loss: 34.0329 - val_accuracy: 0.9573\n",
      "Epoch 85/100\n",
      "98/98 [==============================] - 9s 92ms/step - loss: 0.1209 - accuracy: 0.9836 - val_loss: 35.6479 - val_accuracy: 0.9544\n",
      "Epoch 86/100\n",
      "98/98 [==============================] - 9s 94ms/step - loss: 0.1046 - accuracy: 0.9894 - val_loss: 36.5088 - val_accuracy: 0.9573\n",
      "Epoch 87/100\n",
      "98/98 [==============================] - 9s 92ms/step - loss: 0.1094 - accuracy: 0.9856 - val_loss: 32.6171 - val_accuracy: 0.9573\n",
      "Epoch 88/100\n",
      "98/98 [==============================] - 9s 95ms/step - loss: 0.1114 - accuracy: 0.9827 - val_loss: 37.6418 - val_accuracy: 0.9402\n",
      "Epoch 89/100\n",
      "98/98 [==============================] - 9s 93ms/step - loss: 0.1014 - accuracy: 0.9897 - val_loss: 35.6512 - val_accuracy: 0.9573\n",
      "Epoch 90/100\n",
      "98/98 [==============================] - 9s 95ms/step - loss: 0.1034 - accuracy: 0.9875 - val_loss: 33.7360 - val_accuracy: 0.9601\n",
      "Epoch 91/100\n",
      "98/98 [==============================] - 9s 94ms/step - loss: 0.1048 - accuracy: 0.9849 - val_loss: 31.0828 - val_accuracy: 0.9601\n",
      "Epoch 92/100\n",
      "98/98 [==============================] - 9s 92ms/step - loss: 0.0954 - accuracy: 0.9875 - val_loss: 31.6919 - val_accuracy: 0.9544\n",
      "Epoch 93/100\n",
      "98/98 [==============================] - 9s 96ms/step - loss: 0.0904 - accuracy: 0.9884 - val_loss: 37.9346 - val_accuracy: 0.9487\n",
      "Epoch 94/100\n",
      "98/98 [==============================] - 11s 115ms/step - loss: 0.0871 - accuracy: 0.9897 - val_loss: 57.5474 - val_accuracy: 0.9174\n",
      "Epoch 95/100\n",
      "98/98 [==============================] - 10s 106ms/step - loss: 0.0882 - accuracy: 0.9891 - val_loss: 38.5536 - val_accuracy: 0.9544\n",
      "Epoch 96/100\n",
      "98/98 [==============================] - 10s 107ms/step - loss: 0.0985 - accuracy: 0.9830 - val_loss: 41.9430 - val_accuracy: 0.9544\n",
      "Epoch 97/100\n",
      "98/98 [==============================] - 10s 98ms/step - loss: 0.0841 - accuracy: 0.9891 - val_loss: 44.3111 - val_accuracy: 0.9516\n",
      "Epoch 98/100\n",
      "98/98 [==============================] - 10s 101ms/step - loss: 0.0785 - accuracy: 0.9910 - val_loss: 35.5058 - val_accuracy: 0.9573\n",
      "Epoch 99/100\n",
      "98/98 [==============================] - 10s 102ms/step - loss: 0.0767 - accuracy: 0.9900 - val_loss: 34.9162 - val_accuracy: 0.9402\n",
      "Epoch 100/100\n",
      "98/98 [==============================] - 10s 102ms/step - loss: 0.0857 - accuracy: 0.9881 - val_loss: 41.3640 - val_accuracy: 0.9544\n"
     ]
    }
   ],
   "source": [
    "ann = models.Sequential([\n",
    "        layers.Flatten(input_shape=(28,28,3)),\n",
    "        layers.Dense(3000, activation='relu'),\n",
    "        layers.Dense(1000, activation='relu'),\n",
    "        layers.Dense(36, activation='softmax')    \n",
    "    ])\n",
    "\n",
    "ann.compile(optimizer='SGD',\n",
    "              loss='sparse_categorical_crossentropy',\n",
    "              metrics=['accuracy'])\n",
    "\n",
    "history=ann.fit(X_train_ann, y_train_ann, epochs=100,validation_data=val_data_ann)\n"
   ]
  },
  {
   "cell_type": "code",
   "execution_count": 202,
   "id": "bc01ddd2",
   "metadata": {},
   "outputs": [
    {
     "name": "stdout",
     "output_type": "stream",
     "text": [
      "12/12 [==============================] - 0s 15ms/step - loss: 0.2401 - accuracy: 0.9582\n",
      "************ Test accuracy :  0.9582172632217407\n"
     ]
    }
   ],
   "source": [
    "test_loss, test_acc = ann.evaluate(X_test_ann, y_test_ann, verbose=1) # verbose is a parameter of how detailed is the log in the console\n",
    "print(\"************ Test accuracy : \", test_acc)"
   ]
  },
  {
   "cell_type": "code",
   "execution_count": 203,
   "id": "31a848d7",
   "metadata": {},
   "outputs": [
    {
     "data": {
      "image/png": "[encoded data removed]",
      "text/plain": [
       "<Figure size 800x800 with 2 Axes>"
      ]
     },
     "metadata": {},
     "output_type": "display_data"
    }
   ],
   "source": [
    "acc = history.history['accuracy']\n",
    "val_acc = history.history['val_accuracy']\n",
    "\n",
    "loss = history.history['loss']\n",
    "val_loss = history.history['val_loss']\n",
    "\n",
    "plt.figure(figsize=(8, 8))\n",
    "plt.subplot(2, 1, 1)\n",
    "plt.plot(acc, label='Training Accuracy')\n",
    "plt.plot(val_acc, label='Validation Accuracy')\n",
    "plt.legend(loc='lower right')\n",
    "plt.ylabel('Accuracy')\n",
    "plt.ylim([min(plt.ylim()),1])\n",
    "plt.title('Training and Validation Accuracy')\n",
    "\n",
    "plt.subplot(2, 1, 2)\n",
    "plt.plot(loss, label='Training Loss')\n",
    "plt.plot(val_loss, label='Validation Loss')\n",
    "plt.legend(loc='upper right')\n",
    "plt.ylabel('Cross Entropy')\n",
    "plt.title('Training and Validation Loss')\n",
    "plt.xlabel('epoch')\n",
    "plt.show()"
   ]
  },
  {
   "cell_type": "code",
   "execution_count": 133,
   "id": "1f74f970",
   "metadata": {},
   "outputs": [
    {
     "name": "stdout",
     "output_type": "stream",
     "text": [
      "1/1 [==============================] - 0s 25ms/step\n",
      "pineapple\n"
     ]
    }
   ],
   "source": [
    "from PIL import Image\n",
    "\n",
    "# Load the RGB image using Pillow\n",
    "img = Image.open('/Users/deepanshubissu/Desktop/watermelon.jpg').convert('RGB')\n",
    "\n",
    "# Resize the image to 256x256 using Pillow\n",
    "img = img.resize((28, 28))\n",
    "\n",
    "# Convert the image to a numpy array\n",
    "img_array = tf.keras.preprocessing.image.img_to_array(img)\n",
    "\n",
    "# Convert the numpy array to a tensor\n",
    "img_tensor = tf.convert_to_tensor(img_array)\n",
    "\n",
    "a=np.array(img_tensor)\n",
    "\n",
    "p=[]\n",
    "p.append(img_tensor)\n",
    "p=np.array(p)\n",
    "y_pred = ann.predict(p)\n",
    "y_classes = [np.argmax(element) for element in y_pred]\n",
    "print(classes[y_classes[0]])"
   ]
  },
  {
   "cell_type": "markdown",
   "id": "1b43db15",
   "metadata": {},
   "source": [
    "# CNN"
   ]
  },
  {
   "cell_type": "code",
   "execution_count": 191,
   "id": "37348755",
   "metadata": {},
   "outputs": [],
   "source": [
    "from keras.models import Sequential, load_model\n",
    "from keras.layers import Conv2D, Dense, Flatten, MaxPooling2D, Dropout, BatchNormalization\n",
    "from keras.callbacks import EarlyStopping, ModelCheckpoint, ReduceLROnPlateau\n",
    "import warnings\n",
    "warnings.filterwarnings('ignore')"
   ]
  },
  {
   "cell_type": "code",
   "execution_count": 192,
   "id": "5d751aa9",
   "metadata": {},
   "outputs": [],
   "source": [
    "cnn = models.Sequential([\n",
    "    layers.Conv2D(filters=32, kernel_size=(3, 3), activation='relu', input_shape=(256, 256, 3)),\n",
    "    layers.MaxPooling2D((2, 2)),\n",
    "    \n",
    "    layers.Conv2D(filters=64, kernel_size=(3, 3), activation='relu'),\n",
    "    layers.MaxPooling2D((2, 2)),\n",
    "    \n",
    "    layers.Flatten(),\n",
    "    layers.Dense(64, activation='relu'),\n",
    "    layers.Dense(36, activation='softmax')\n",
    "])"
   ]
  },
  {
   "cell_type": "code",
   "execution_count": 193,
   "id": "21b53f58",
   "metadata": {},
   "outputs": [],
   "source": [
    "cnn.compile(optimizer='adam',\n",
    "              loss='sparse_categorical_crossentropy',\n",
    "              metrics=['accuracy'])\n"
   ]
  },
  {
   "cell_type": "code",
   "execution_count": 204,
   "id": "15755a68",
   "metadata": {},
   "outputs": [
    {
     "name": "stdout",
     "output_type": "stream",
     "text": [
      "Epoch 1/5\n",
      "98/98 [==============================] - 263s 3s/step - loss: 3.2360 - accuracy: 0.1201\n",
      "Epoch 2/5\n",
      "98/98 [==============================] - 241s 2s/step - loss: 2.4826 - accuracy: 0.3104\n",
      "Epoch 3/5\n",
      "98/98 [==============================] - 258s 3s/step - loss: 1.2910 - accuracy: 0.6376\n",
      "Epoch 4/5\n",
      "98/98 [==============================] - 215s 2s/step - loss: 0.4445 - accuracy: 0.8867\n",
      "Epoch 5/5\n",
      "98/98 [==============================] - 212s 2s/step - loss: 0.1900 - accuracy: 0.9615\n"
     ]
    }
   ],
   "source": [
    "cnn_history=cnn.fit(X_train, y_train, epochs=5)"
   ]
  },
  {
   "cell_type": "code",
   "execution_count": null,
   "id": "495899a2",
   "metadata": {},
   "outputs": [],
   "source": []
  }
 ],
 "metadata": {
  "kernelspec": {
   "display_name": "Python 3 (ipykernel)",
   "language": "python",
   "name": "python3"
  },
  "language_info": {
   "codemirror_mode": {
    "name": "ipython",
    "version": 3
   },
   "file_extension": ".py",
   "mimetype": "text/x-python",
   "name": "python",
   "nbconvert_exporter": "python",
   "pygments_lexer": "ipython3",
   "version": "3.9.16"
  }
 },
 "nbformat": 4,
 "nbformat_minor": 5
}
